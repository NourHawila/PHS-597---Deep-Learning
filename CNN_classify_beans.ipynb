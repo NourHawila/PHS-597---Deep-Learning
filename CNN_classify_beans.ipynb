{
  "nbformat": 4,
  "nbformat_minor": 0,
  "metadata": {
    "colab": {
      "name": "CNN_classify_beans",
      "provenance": [],
      "collapsed_sections": [],
      "include_colab_link": true
    },
    "kernelspec": {
      "name": "python3",
      "display_name": "Python 3"
    },
    "accelerator": "GPU"
  },
  "cells": [
    {
      "cell_type": "markdown",
      "metadata": {
        "id": "view-in-github",
        "colab_type": "text"
      },
      "source": [
        "<a href=\"https://colab.research.google.com/github/NourHawila/PHS-597---Deep-Learning/blob/master/CNN_classify_beans.ipynb\" target=\"_parent\"><img src=\"https://colab.research.google.com/assets/colab-badge.svg\" alt=\"Open In Colab\"/></a>"
      ]
    },
    {
      "cell_type": "code",
      "metadata": {
        "id": "oo0PkLE-_wx0"
      },
      "source": [
        "# Import TensorFlow and TensorFlow Datasets\n",
        "import tensorflow_datasets as tfds\n",
        "import tensorflow as tf\n",
        "\n",
        "import os"
      ],
      "execution_count": 63,
      "outputs": []
    },
    {
      "cell_type": "code",
      "metadata": {
        "id": "8uPcbCCGAp6g"
      },
      "source": [
        "# Getting the data\n",
        "datasets, info = tfds.load('beans', with_info=True, as_supervised=True)\n",
        "\n",
        "beans_train, beans_test = datasets['train'], datasets['test']"
      ],
      "execution_count": 64,
      "outputs": []
    },
    {
      "cell_type": "code",
      "metadata": {
        "id": "GI5geR7_BORX"
      },
      "source": [
        "# Defining some hyperparameters\n",
        "num_train_examples = info.splits['train'].num_examples\n",
        "num_test_examples = info.splits['test'].num_examples\n",
        "\n",
        "BUFFER_SIZE = 10000\n",
        "BATCH_SIZE = 32"
      ],
      "execution_count": 65,
      "outputs": []
    },
    {
      "cell_type": "code",
      "metadata": {
        "id": "pwbYWERSBUk3"
      },
      "source": [
        "# Normalizing the pixel values\n",
        "def scale(image, label):\n",
        "  image = tf.cast(image, tf.float32)\n",
        "  image /= 255\n",
        "\n",
        "  return image, label"
      ],
      "execution_count": 66,
      "outputs": []
    },
    {
      "cell_type": "code",
      "metadata": {
        "id": "1hKc2LxgBWaO"
      },
      "source": [
        "# Batching the dataset and keeping a memory buffer for better performance\n",
        "train_dataset = beans_train.map(scale).cache().shuffle(BUFFER_SIZE).batch(BATCH_SIZE)\n",
        "eval_dataset = beans_test.map(scale).batch(BATCH_SIZE)"
      ],
      "execution_count": 67,
      "outputs": []
    },
    {
      "cell_type": "code",
      "metadata": {
        "id": "o6v1K-FiBYIU"
      },
      "source": [
        "# Building our model\n",
        "model = tf.keras.Sequential([\n",
        "      tf.keras.layers.Conv2D(16, 3, activation='relu', input_shape=(500, 500, 3)),\n",
        "      tf.keras.layers.MaxPooling2D(),\n",
        "      tf.keras.layers.Conv2D(32, 3, activation='relu'),\n",
        "      tf.keras.layers.MaxPooling2D(),\n",
        "      tf.keras.layers.Conv2D(64, 3, activation='relu'),\n",
        "      tf.keras.layers.MaxPooling2D(),\n",
        "      tf.keras.layers.Flatten(),\n",
        "      tf.keras.layers.Dense(64, activation='relu'),\n",
        "      tf.keras.layers.Dense(3)\n",
        "  ])\n",
        "\n",
        "model.compile(loss=tf.keras.losses.SparseCategoricalCrossentropy(from_logits=True),\n",
        "                optimizer=tf.keras.optimizers.Adam(),\n",
        "                metrics=['accuracy'])"
      ],
      "execution_count": 68,
      "outputs": []
    },
    {
      "cell_type": "code",
      "metadata": {
        "id": "EuzCUJe5BhNA"
      },
      "source": [
        "# Define the checkpoint directory to store the checkpoints\n",
        "checkpoint_dir = './training_checkpoints'\n",
        "\n",
        "# Name of the checkpoint files\n",
        "checkpoint_prefix = os.path.join(checkpoint_dir, \"ckpt_{epoch}\")"
      ],
      "execution_count": 69,
      "outputs": []
    },
    {
      "cell_type": "code",
      "metadata": {
        "id": "Z5IzP-2lBlTl"
      },
      "source": [
        "# Function for decaying the learning rate.\n",
        "\n",
        "def decay(epoch):\n",
        "  if epoch < 3:\n",
        "    return 1e-3\n",
        "  elif epoch >= 3 and epoch < 7:\n",
        "    return 1e-4\n",
        "  else:\n",
        "    return 1e-5"
      ],
      "execution_count": 70,
      "outputs": []
    },
    {
      "cell_type": "code",
      "metadata": {
        "id": "EE4C0TiQBpTW"
      },
      "source": [
        "# Defining the callbacks\n",
        "callbacks = [\n",
        "    tf.keras.callbacks.TensorBoard(log_dir='./logs'),\n",
        "    tf.keras.callbacks.ModelCheckpoint(filepath=checkpoint_prefix,\n",
        "                                       save_weights_only=True),\n",
        "    tf.keras.callbacks.LearningRateScheduler(decay)\n",
        "]"
      ],
      "execution_count": 71,
      "outputs": []
    },
    {
      "cell_type": "code",
      "metadata": {
        "id": "wH50NHXWBq_a",
        "colab": {
          "base_uri": "https://localhost:8080/"
        },
        "outputId": "7864cbd6-692e-4b5a-8bc4-72922714da0a"
      },
      "source": [
        "# Training the model\n",
        "import time\n",
        "\n",
        "start = time.time()\n",
        "model.fit(train_dataset, epochs=5, callbacks=callbacks)\n",
        "end = time.time()\n",
        "print(\"Time elapsed: {}\".format(end-start))"
      ],
      "execution_count": 72,
      "outputs": [
        {
          "output_type": "stream",
          "text": [
            "Epoch 1/5\n",
            "33/33 [==============================] - 9s 164ms/step - loss: 4.0592 - accuracy: 0.3913\n",
            "Epoch 2/5\n",
            "33/33 [==============================] - 5s 141ms/step - loss: 0.6936 - accuracy: 0.6954\n",
            "Epoch 3/5\n",
            "33/33 [==============================] - 5s 145ms/step - loss: 0.5566 - accuracy: 0.7678\n",
            "Epoch 4/5\n",
            "33/33 [==============================] - 5s 143ms/step - loss: 0.4008 - accuracy: 0.8632\n",
            "Epoch 5/5\n",
            "33/33 [==============================] - 5s 145ms/step - loss: 0.3444 - accuracy: 0.8806\n",
            "Time elapsed: 30.173025369644165\n"
          ],
          "name": "stdout"
        }
      ]
    },
    {
      "cell_type": "code",
      "metadata": {
        "id": "OHLxDDFSe2CX"
      },
      "source": [
        ""
      ],
      "execution_count": null,
      "outputs": []
    }
  ]
}